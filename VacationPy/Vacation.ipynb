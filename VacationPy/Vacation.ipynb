{
 "cells": [
  {
   "cell_type": "code",
   "execution_count": 1,
   "metadata": {},
   "outputs": [],
   "source": [
    "# Dependencies\n",
    "from config import g_key\n",
    "import gmaps\n",
    "import pandas as pd\n",
    "import numpy as mp\n",
    "import requests\n",
    "import json\n",
    "import os\n",
    "import gmaps.datasets"
   ]
  },
  {
   "cell_type": "code",
   "execution_count": 2,
   "metadata": {},
   "outputs": [
    {
     "data": {
      "text/html": "<div>\n<style scoped>\n    .dataframe tbody tr th:only-of-type {\n        vertical-align: middle;\n    }\n\n    .dataframe tbody tr th {\n        vertical-align: top;\n    }\n\n    .dataframe thead th {\n        text-align: right;\n    }\n</style>\n<table border=\"1\" class=\"dataframe\">\n  <thead>\n    <tr style=\"text-align: right;\">\n      <th></th>\n      <th>City</th>\n      <th>Country Code</th>\n      <th>Lat [deg]</th>\n      <th>Lng [deg]</th>\n      <th>Temperature [C]</th>\n      <th>Humidity [%]</th>\n      <th>Cloudiness [%]</th>\n      <th>Wind Speed (kph]</th>\n    </tr>\n  </thead>\n  <tbody>\n    <tr>\n      <th>0</th>\n      <td>albany</td>\n      <td>au</td>\n      <td>42.6001</td>\n      <td>-73.9662</td>\n      <td>17.57</td>\n      <td>91</td>\n      <td>100</td>\n      <td>0.89</td>\n    </tr>\n    <tr>\n      <th>1</th>\n      <td>hermanus</td>\n      <td>za</td>\n      <td>-34.4187</td>\n      <td>19.2345</td>\n      <td>19.33</td>\n      <td>47</td>\n      <td>97</td>\n      <td>1.44</td>\n    </tr>\n  </tbody>\n</table>\n</div>",
      "text/plain": "       City Country Code  Lat [deg]  Lng [deg]  Temperature [C]  Humidity [%]  \\\n0    albany           au    42.6001   -73.9662            17.57            91   \n1  hermanus           za   -34.4187    19.2345            19.33            47   \n\n   Cloudiness [%]  Wind Speed (kph]  \n0             100              0.89  \n1              97              1.44  "
     },
     "execution_count": 2,
     "metadata": {},
     "output_type": "execute_result"
    }
   ],
   "source": [
    "# Get / Read csv\n",
    "data_df = pd.read_csv(\"../WeatherPy/Analysis.csv\")\n",
    "data_df.head(2)"
   ]
  },
  {
   "cell_type": "code",
   "execution_count": 3,
   "metadata": {},
   "outputs": [
    {
     "data": {
      "text/html": "<div>\n<style scoped>\n    .dataframe tbody tr th:only-of-type {\n        vertical-align: middle;\n    }\n\n    .dataframe tbody tr th {\n        vertical-align: top;\n    }\n\n    .dataframe thead th {\n        text-align: right;\n    }\n</style>\n<table border=\"1\" class=\"dataframe\">\n  <thead>\n    <tr style=\"text-align: right;\">\n      <th></th>\n      <th>City</th>\n      <th>Country</th>\n      <th>Lat [deg]</th>\n      <th>Lng [deg]</th>\n      <th>Temperature [C]</th>\n      <th>Humidity [%]</th>\n      <th>Cloudiness [%]</th>\n      <th>Wind Speed (kph]</th>\n    </tr>\n  </thead>\n  <tbody>\n    <tr>\n      <th>0</th>\n      <td>albany</td>\n      <td>au</td>\n      <td>42.6001</td>\n      <td>-73.9662</td>\n      <td>17.57</td>\n      <td>91</td>\n      <td>100</td>\n      <td>0.89</td>\n    </tr>\n    <tr>\n      <th>1</th>\n      <td>hermanus</td>\n      <td>za</td>\n      <td>-34.4187</td>\n      <td>19.2345</td>\n      <td>19.33</td>\n      <td>47</td>\n      <td>97</td>\n      <td>1.44</td>\n    </tr>\n  </tbody>\n</table>\n</div>",
      "text/plain": "       City Country  Lat [deg]  Lng [deg]  Temperature [C]  Humidity [%]  \\\n0    albany      au    42.6001   -73.9662            17.57            91   \n1  hermanus      za   -34.4187    19.2345            19.33            47   \n\n   Cloudiness [%]  Wind Speed (kph]  \n0             100              0.89  \n1              97              1.44  "
     },
     "execution_count": 3,
     "metadata": {},
     "output_type": "execute_result"
    }
   ],
   "source": [
    "data_df.rename(columns={\"Country Code\": \"Country\"}, inplace=True)\n",
    "data_df.head(2)"
   ]
  },
  {
   "cell_type": "code",
   "execution_count": 44,
   "metadata": {},
   "outputs": [],
   "source": [
    "# Configure\n",
    "gmaps.configure(api_key=g_key)\n",
    "\n",
    "# Store & Convert\n",
    "loc_df = data_df[[\"Lat [deg]\", \"Lng [deg]\"]]\n",
    "hum_df = data_df[\"Humidity [%]\"]\n",
    "\n",
    "\n",
    "\n"
   ]
  },
  {
   "cell_type": "code",
   "execution_count": 50,
   "metadata": {},
   "outputs": [
    {
     "data": {
      "application/vnd.jupyter.widget-view+json": {
       "model_id": "4361816cd1d64c6dbf4484dcb77e96b7",
       "version_major": 2,
       "version_minor": 0
      },
      "text/plain": "Figure(layout=FigureLayout(height='420px'))"
     },
     "metadata": {},
     "output_type": "display_data"
    }
   ],
   "source": [
    "# Create heatmap layer\n",
    "\n",
    "figure_layout = {'width': '500px', 'margin': '0 auto 0 auto'}\n",
    "gmaps.figure(layout=figure_layout)\n",
    "\n",
    "#Heat = gmaps.heatmap_layer(loc_df, weights=hum_df, \n",
    "                                 #dissipating=False, \n",
    "                                 #point_radius = 3)\n",
    "\n",
    "fig.add_layer(Heat)\n",
    "fig"
   ]
  },
  {
   "cell_type": "code",
   "execution_count": 51,
   "metadata": {},
   "outputs": [
    {
     "data": {
      "text/html": "<div>\n<style scoped>\n    .dataframe tbody tr th:only-of-type {\n        vertical-align: middle;\n    }\n\n    .dataframe tbody tr th {\n        vertical-align: top;\n    }\n\n    .dataframe thead th {\n        text-align: right;\n    }\n</style>\n<table border=\"1\" class=\"dataframe\">\n  <thead>\n    <tr style=\"text-align: right;\">\n      <th></th>\n      <th>City</th>\n      <th>Country</th>\n      <th>Lat [deg]</th>\n      <th>Lng [deg]</th>\n      <th>Temperature [C]</th>\n      <th>Humidity [%]</th>\n      <th>Cloudiness [%]</th>\n      <th>Wind Speed (kph]</th>\n    </tr>\n  </thead>\n  <tbody>\n    <tr>\n      <th>7</th>\n      <td>port elizabeth</td>\n      <td>za</td>\n      <td>-33.918</td>\n      <td>25.5701</td>\n      <td>22.16</td>\n      <td>26</td>\n      <td>0</td>\n      <td>1.03</td>\n    </tr>\n    <tr>\n      <th>84</th>\n      <td>presidencia roque saenz pena</td>\n      <td>ar</td>\n      <td>-26.7852</td>\n      <td>-60.4388</td>\n      <td>20.72</td>\n      <td>51</td>\n      <td>0</td>\n      <td>2.38</td>\n    </tr>\n    <tr>\n      <th>181</th>\n      <td>san patricio</td>\n      <td>mx</td>\n      <td>28.017</td>\n      <td>-97.5169</td>\n      <td>25.38</td>\n      <td>93</td>\n      <td>0</td>\n      <td>2.52</td>\n    </tr>\n    <tr>\n      <th>294</th>\n      <td>ponta do sol</td>\n      <td>cv</td>\n      <td>32.6667</td>\n      <td>-17.1</td>\n      <td>24.78</td>\n      <td>72</td>\n      <td>0</td>\n      <td>0.66</td>\n    </tr>\n    <tr>\n      <th>355</th>\n      <td>yafran</td>\n      <td>ly</td>\n      <td>32.0633</td>\n      <td>12.5286</td>\n      <td>32.46</td>\n      <td>15</td>\n      <td>0</td>\n      <td>1.68</td>\n    </tr>\n    <tr>\n      <th>377</th>\n      <td>ponta do sol</td>\n      <td>pt</td>\n      <td>32.6667</td>\n      <td>-17.1</td>\n      <td>24.78</td>\n      <td>72</td>\n      <td>0</td>\n      <td>0.66</td>\n    </tr>\n    <tr>\n      <th>438</th>\n      <td>karaton</td>\n      <td>kz</td>\n      <td>-6.3424</td>\n      <td>106.105</td>\n      <td>29.08</td>\n      <td>79</td>\n      <td>0</td>\n      <td>1.5</td>\n    </tr>\n    <tr>\n      <th>444</th>\n      <td>chisinau</td>\n      <td>md</td>\n      <td>47.0056</td>\n      <td>28.8575</td>\n      <td>29.24</td>\n      <td>37</td>\n      <td>0</td>\n      <td>2.57</td>\n    </tr>\n    <tr>\n      <th>545</th>\n      <td>skelleftea</td>\n      <td>se</td>\n      <td>64.7507</td>\n      <td>20.9528</td>\n      <td>29.44</td>\n      <td>40</td>\n      <td>0</td>\n      <td>0.45</td>\n    </tr>\n  </tbody>\n</table>\n</div>",
      "text/plain": "                             City Country Lat [deg] Lng [deg] Temperature [C]  \\\n7                  port elizabeth      za   -33.918   25.5701           22.16   \n84   presidencia roque saenz pena      ar  -26.7852  -60.4388           20.72   \n181                  san patricio      mx    28.017  -97.5169           25.38   \n294                  ponta do sol      cv   32.6667     -17.1           24.78   \n355                        yafran      ly   32.0633   12.5286           32.46   \n377                  ponta do sol      pt   32.6667     -17.1           24.78   \n438                       karaton      kz   -6.3424   106.105           29.08   \n444                      chisinau      md   47.0056   28.8575           29.24   \n545                    skelleftea      se   64.7507   20.9528           29.44   \n\n    Humidity [%] Cloudiness [%] Wind Speed (kph]  \n7             26              0             1.03  \n84            51              0             2.38  \n181           93              0             2.52  \n294           72              0             0.66  \n355           15              0             1.68  \n377           72              0             0.66  \n438           79              0              1.5  \n444           37              0             2.57  \n545           40              0             0.45  "
     },
     "execution_count": 51,
     "metadata": {},
     "output_type": "execute_result"
    }
   ],
   "source": [
    "# Filter weather\n",
    "Good_Cities = pd.DataFrame()\n",
    "\n",
    "for index,row in data_df.iterrows():\n",
    "    if row[\"Temperature [C]\"]>20 and row[\"Temperature [C]\"]<35 and row['Wind Speed (kph]']<3 and row[\"Cloudiness [%]\"]==0:\n",
    "        Good_Cities[index]=row\n",
    "Good_Cities.dropna().T\n"
   ]
  },
  {
   "cell_type": "code",
   "execution_count": 32,
   "metadata": {},
   "outputs": [
    {
     "data": {
      "text/html": "<div>\n<style scoped>\n    .dataframe tbody tr th:only-of-type {\n        vertical-align: middle;\n    }\n\n    .dataframe tbody tr th {\n        vertical-align: top;\n    }\n\n    .dataframe thead th {\n        text-align: right;\n    }\n</style>\n<table border=\"1\" class=\"dataframe\">\n  <thead>\n    <tr style=\"text-align: right;\">\n      <th></th>\n      <th>City</th>\n      <th>Country</th>\n      <th>Lat [deg]</th>\n      <th>Lng [deg]</th>\n      <th>Hotel Name</th>\n      <th>Hotel Lat</th>\n      <th>Hotel Lng</th>\n      <th>Hotel Rating</th>\n      <th>Hotel Total Reviews</th>\n    </tr>\n  </thead>\n  <tbody>\n    <tr>\n      <th>7</th>\n      <td>port elizabeth</td>\n      <td>za</td>\n      <td>-33.918</td>\n      <td>25.5701</td>\n      <td></td>\n      <td></td>\n      <td></td>\n      <td></td>\n      <td></td>\n    </tr>\n    <tr>\n      <th>84</th>\n      <td>presidencia roque saenz pena</td>\n      <td>ar</td>\n      <td>-26.7852</td>\n      <td>-60.4388</td>\n      <td></td>\n      <td></td>\n      <td></td>\n      <td></td>\n      <td></td>\n    </tr>\n    <tr>\n      <th>181</th>\n      <td>san patricio</td>\n      <td>mx</td>\n      <td>28.017</td>\n      <td>-97.5169</td>\n      <td></td>\n      <td></td>\n      <td></td>\n      <td></td>\n      <td></td>\n    </tr>\n    <tr>\n      <th>294</th>\n      <td>ponta do sol</td>\n      <td>cv</td>\n      <td>32.6667</td>\n      <td>-17.1</td>\n      <td></td>\n      <td></td>\n      <td></td>\n      <td></td>\n      <td></td>\n    </tr>\n    <tr>\n      <th>355</th>\n      <td>yafran</td>\n      <td>ly</td>\n      <td>32.0633</td>\n      <td>12.5286</td>\n      <td></td>\n      <td></td>\n      <td></td>\n      <td></td>\n      <td></td>\n    </tr>\n  </tbody>\n</table>\n</div>",
      "text/plain": "                             City Country Lat [deg] Lng [deg] Hotel Name  \\\n7                  port elizabeth      za   -33.918   25.5701              \n84   presidencia roque saenz pena      ar  -26.7852  -60.4388              \n181                  san patricio      mx    28.017  -97.5169              \n294                  ponta do sol      cv   32.6667     -17.1              \n355                        yafran      ly   32.0633   12.5286              \n\n    Hotel Lat Hotel Lng Hotel Rating Hotel Total Reviews  \n7                                                         \n84                                                        \n181                                                       \n294                                                       \n355                                                       "
     },
     "execution_count": 32,
     "metadata": {},
     "output_type": "execute_result"
    }
   ],
   "source": [
    "# Dataframe for nearest hotels\n",
    "\n",
    "hotels_df=Good_Cities.loc[[\"City\",\"Country\",\"Lat [deg]\",\"Lng [deg]\"]].T\n",
    "hotels_df[\"Hotel Name\"]=\"\"\n",
    "hotels_df[\"Hotel Lat\"]=\"\"\n",
    "hotels_df[\"Hotel Lng\"]=\"\"\n",
    "hotels_df[\"Hotel Rating\"]=\"\"\n",
    "hotels_df[\"Hotel Total Reviews\"]=\"\"\n",
    "hotels_df.head()"
   ]
  },
  {
   "cell_type": "code",
   "execution_count": 64,
   "metadata": {},
   "outputs": [
    {
     "data": {
      "text/html": "<div>\n<style scoped>\n    .dataframe tbody tr th:only-of-type {\n        vertical-align: middle;\n    }\n\n    .dataframe tbody tr th {\n        vertical-align: top;\n    }\n\n    .dataframe thead th {\n        text-align: right;\n    }\n</style>\n<table border=\"1\" class=\"dataframe\">\n  <thead>\n    <tr style=\"text-align: right;\">\n      <th></th>\n      <th>City</th>\n      <th>Country</th>\n      <th>Lat [deg]</th>\n      <th>Lng [deg]</th>\n      <th>Hotel Name</th>\n      <th>Hotel Lat</th>\n      <th>Hotel Lng</th>\n      <th>Hotel Rating</th>\n      <th>Hotel Total Reviews</th>\n    </tr>\n  </thead>\n  <tbody>\n    <tr>\n      <th>7</th>\n      <td>port elizabeth</td>\n      <td>za</td>\n      <td>-33.918</td>\n      <td>25.5701</td>\n      <td>Newton Sands Guesthouse</td>\n      <td>-33.945</td>\n      <td>25.5648</td>\n      <td>4.7</td>\n      <td>29</td>\n    </tr>\n    <tr>\n      <th>84</th>\n      <td>presidencia roque saenz pena</td>\n      <td>ar</td>\n      <td>-26.7852</td>\n      <td>-60.4388</td>\n      <td>Hotel il colono,,,</td>\n      <td>-26.7857</td>\n      <td>-60.4395</td>\n      <td>3.6</td>\n      <td>14</td>\n    </tr>\n  </tbody>\n</table>\n</div>",
      "text/plain": "                            City Country Lat [deg] Lng [deg]  \\\n7                 port elizabeth      za   -33.918   25.5701   \n84  presidencia roque saenz pena      ar  -26.7852  -60.4388   \n\n                 Hotel Name Hotel Lat Hotel Lng Hotel Rating  \\\n7   Newton Sands Guesthouse   -33.945   25.5648          4.7   \n84       Hotel il colono,,,  -26.7857  -60.4395          3.6   \n\n   Hotel Total Reviews  \n7                   29  \n84                  14  "
     },
     "execution_count": 64,
     "metadata": {},
     "output_type": "execute_result"
    }
   ],
   "source": [
    "url= \"https://maps.googleapis.com/maps/api/place/nearbysearch/json?center=0,0&zoom=1&size=400x300\"\n",
    "for index,row in hotels_df.iterrows():\n",
    "    \n",
    "    params = {\n",
    "    \"location\": \" {} , {} \".format(row[\"Lat [deg]\"],row[\"Lng [deg]\"]) ,\n",
    "    \"rankby\": \"distance\",\n",
    "    \"type\": \"lodging\",\n",
    "    \"keyword\": \"hotel\",\n",
    "    \"key\": g_key}\n",
    "    response = requests.get(url, params=params).json()\n",
    "    \n",
    "    # Add to DF\n",
    "    hotels_df.loc[index,\"Hotel Lat\"]=response[\"results\"][0]['geometry']['location'][\"lat\"]\n",
    "    hotels_df.loc[index,\"Hotel Lng\"]=response[\"results\"][0]['geometry']['location']['lng']\n",
    "    hotels_df.loc[index,\"Hotel Name\"]=response[\"results\"][0][\"name\"]\n",
    "    hotels_df.loc[index,\"Hotel Rating\"]=response[\"results\"][0][\"rating\"]\n",
    "    hotels_df.loc[index,\"Hotel Total Reviews\"]=response[\"results\"][0][\"user_ratings_total\"]\n",
    "\n",
    "hotels_df.head(2)"
   ]
  },
  {
   "cell_type": "code",
   "execution_count": 65,
   "metadata": {},
   "outputs": [
    {
     "data": {
      "application/vnd.jupyter.widget-view+json": {
       "model_id": "4361816cd1d64c6dbf4484dcb77e96b7",
       "version_major": 2,
       "version_minor": 0
      },
      "text/plain": "Figure(layout=FigureLayout(height='420px'))"
     },
     "metadata": {},
     "output_type": "display_data"
    }
   ],
   "source": [
    "# Add to heatmap\n",
    "hotels=[]\n",
    "for index,row in hotels_df.iterrows():\n",
    "    hotels.append( tuple([row[\"Hotel Lat\"],row[\"Hotel Lng\"]] )) \n",
    "\n",
    "markers=gmaps.marker_layer(hotels)\n",
    "fig.add_layer(markers)\n",
    "\n",
    "fig"
   ]
  },
  {
   "cell_type": "code",
   "execution_count": 66,
   "metadata": {},
   "outputs": [],
   "source": [
    "# NOTE: Do not change any of the code in this cell\n",
    "\n",
    "# Using the template add the hotel marks to the heatmap\n",
    "info_box_template = \"\"\"\n",
    "<dl>\n",
    "<dt>Name</dt><dd>{Hotel Name}</dd>\n",
    "<dt>City</dt><dd>{City}</dd>\n",
    "<dt>Country</dt><dd>{Country}</dd>\n",
    "</dl>\n",
    "\"\"\"\n",
    "# Store the DataFrame Row\n",
    "# NOTE: be sure to update with your DataFrame name\n",
    "hotel_info = [info_box_template.format(**row) for index, row in hotels_df.iterrows()]\n",
    "loc_df = hotels_df[[\"Lat [deg]\", \"Lng [deg]\"]]\n"
   ]
  },
  {
   "cell_type": "code",
   "execution_count": 68,
   "metadata": {},
   "outputs": [
    {
     "data": {
      "application/vnd.jupyter.widget-view+json": {
       "model_id": "4361816cd1d64c6dbf4484dcb77e96b7",
       "version_major": 2,
       "version_minor": 0
      },
      "text/plain": "Figure(layout=FigureLayout(height='420px'))"
     },
     "metadata": {},
     "output_type": "display_data"
    }
   ],
   "source": [
    "markers1 = gmaps.marker_layer(locations=loc_df, info_box_content=hotel_info)\n",
    "fig.add_layer(markers1)\n",
    "fig\n"
   ]
  }
 ],
 "metadata": {
  "kernelspec": {
   "display_name": "Python 3.6.13 64-bit ('Class': conda)",
   "metadata": {
    "interpreter": {
     "hash": "f8dc4aaf8a9462e19a2a5b19dbec340601ec663879adf0fd68cdf19f2542efb8"
    }
   },
   "name": "python3"
  },
  "language_info": {
   "codemirror_mode": {
    "name": "ipython",
    "version": 3
   },
   "file_extension": ".py",
   "mimetype": "text/x-python",
   "name": "python",
   "nbconvert_exporter": "python",
   "pygments_lexer": "ipython3",
   "version": "3.6.13"
  },
  "orig_nbformat": 2
 },
 "nbformat": 4,
 "nbformat_minor": 2
}